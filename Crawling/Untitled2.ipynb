{
 "cells": [
  {
   "cell_type": "code",
   "execution_count": 8,
   "metadata": {},
   "outputs": [],
   "source": [
    "from selenium import webdriver\n",
    "from bs4 import BeautifulSoup\n",
    "from collections import defaultdict\n",
    "import time\n",
    "import datetime\n",
    "import os\n",
    "import json\n",
    "from krwordrank.word import KRWordRank\n",
    "from wordcloud import WordCloud\n",
    "\n",
    "import pandas as pd"
   ]
  },
  {
   "cell_type": "code",
   "execution_count": 9,
   "metadata": {},
   "outputs": [
    {
     "name": "stdout",
     "output_type": "stream",
     "text": [
      "'NoneType' object has no attribute 'get_text'\n"
     ]
    }
   ],
   "source": [
    "import re\n",
    "\n",
    "FIND_NUM = 10                                   # 탐색하고자 하는 횟수, 개당 20게 게시물\n",
    "YOUR_ID =                          # 에브리타임 아이디\n",
    "YOUR_PASSWORD =                       # 에브리타임 비밀번호\n",
    "BOARD_URL = 'https://everytime.kr/370439/p/'   # 에브리타임 해당 학교 자유게시판 주소\n",
    "def tree(): \n",
    "    return defaultdict(tree)\n",
    "\n",
    "driver = webdriver.Chrome('./chromedriver.exe')\n",
    "driver.implicitly_wait(10)\n",
    "driver.get('https://everytime.kr/login')\n",
    "\n",
    "# 접속\n",
    "driver.find_element_by_xpath('//*[@id=\"container\"]/form/p[1]/input').send_keys(YOUR_ID)   # 아이디\n",
    "driver.find_element_by_xpath('//*[@id=\"container\"]/form/p[2]/input').send_keys(YOUR_PASSWORD)   # 비밀번호\n",
    "driver.find_element_by_xpath('//*[@id=\"container\"]/form/p[3]/input').click()                # 로그인 버튼\n",
    "time.sleep(2)\n",
    "driver.find_element_by_xpath('//*[@id=\"container\"]/div[4]/div[1]/div/h3/a').click()          # 자유게시판 클릭\n",
    "\n",
    "everytime_link = list() # 링크 리스트\n",
    "fail_link = list() # 실패 리스트\n",
    "page_number = 2\n",
    "content_number = 0\n",
    "\n",
    "\n",
    "if not os.path.isdir(\"./Result/\"):\n",
    "    os.mkdir(\"./Result/\") \n",
    "    \n",
    "for i in range(FIND_NUM):\n",
    "    time.sleep(7)    \n",
    "    html = driver.page_source\n",
    "    soup = BeautifulSoup(html, 'html.parser')\n",
    "    \n",
    "    content = soup.findAll('article')\n",
    "\n",
    "    for url in content:\n",
    "        find_url = url.find('a', attrs={'class', 'article'}).get('href')\n",
    "        everytime_link.append(find_url)\n",
    "    time.sleep(2)\n",
    "    driver.get(BOARD_URL + str(page_number)) # 자유게시판\n",
    "    page_number = page_number + 1\n",
    "\n",
    "with open('./everytime_link.txt', 'w') as fileobject:\n",
    "    for join_link in everytime_link:\n",
    "        fileobject.write(join_link)\n",
    "        fileobject.write('\\n')\n",
    "\n",
    "\n",
    "\n",
    "for url in everytime_link:\n",
    "        \n",
    "    time_now = datetime.datetime.now()      #현재 시간 저장\n",
    "    json_data = dict()\n",
    "    comment_text = list()\n",
    "    comment_time = list()\n",
    "    json_data['comment_text'] = list()\n",
    "    json_data['comment_time'] = list()\n",
    "    \n",
    "    try:\n",
    "        driver.get('https://everytime.kr' + url)\n",
    "        time.sleep(5)\n",
    "\n",
    "        html = driver.page_source\n",
    "        soup = BeautifulSoup(html, 'html.parser')\n",
    "        # append 로 수정할것\n",
    "        title = soup.find('h2', attrs={'class', 'large'}).get_text() \n",
    "        title = re.sub('[^가-힣0-9a-zA-Z\\\\s]','',title)\n",
    "        text = soup.find('p', attrs={'class', 'large'}).get_text()\n",
    "        text = re.sub('[^가-힣0-9a-zA-Z\\\\s]','',text)\n",
    "        text_time = soup.find('time', attrs={'class', 'large'}).get_text()\n",
    "        \n",
    "    #    try:\n",
    "  #          comment = soup.findAll('article')\n",
    "   #         comment = re.sub('[^가-힣0-9a-zA-Z\\\\s]','',comment)\n",
    "#\n",
    "    #        for content in comment:\n",
    "    #            comment_text.append(content.find('p').get_text())\n",
    "   #             comment_time.append(content.find('time').get_text())\n",
    "   #     except:\n",
    "   #         pass                   #댓글없음\n",
    "        \n",
    "        \n",
    "        json_data['title'] = title\n",
    "        json_data['text'] = text\n",
    "        json_data['tex_time'] = text_time\n",
    "        #json_data['now_time'] = str(time_now)\n",
    "        \n",
    "        \n",
    "   #     json_data['comment_text'] = comment_text\n",
    "  #      json_data['comment_time'] = comment_time\n",
    "        \n",
    "    except Exception as e:\n",
    "        print(e)\n",
    "        fail_link.append(url)\n",
    "        continue\n",
    "\n",
    "    with open('./Result/' + 'text' + str(content_number) + '.txt', 'w') as fileobject:\n",
    "        json.dump(json_data, fileobject)\n",
    "        content_number = content_number + 1\n",
    "            \n",
    "            \n",
    "with open('./fail_url.txt', 'w') as fileobject:\n",
    "    for join_link in fail_link:\n",
    "        fileobject.write(join_link)\n",
    "        fileobject.write('\\n')\n",
    "            \n",
    "driver.close()"
   ]
  },
  {
   "cell_type": "code",
   "execution_count": 10,
   "metadata": {},
   "outputs": [],
   "source": [
    "# https://wikidocs.net/39 참조\n",
    "\n",
    "def search(dirname):        # 디렉토리 속 파일 경로 리스트 가져오기 ex : ./Result/file.txt\n",
    "    file_name_list = list()\n",
    "    filenames = os.listdir(dirname)\n",
    "    for filename in filenames:\n",
    "        full_filename = os.path.join(dirname, filename)\n",
    "        file_name_list.append(full_filename)\n",
    "    return file_name_list\n",
    "\n",
    "def file_read(file_name_list):  # json 으로 해당 경로 파일 가져오기\n",
    "    data = list()\n",
    "    for file_path in file_name_list:\n",
    "        with open(file_path, 'r') as file_point:\n",
    "            data.append(json.load(file_point))\n",
    "    return data"
   ]
  },
  {
   "cell_type": "code",
   "execution_count": 11,
   "metadata": {},
   "outputs": [
    {
     "name": "stdout",
     "output_type": "stream",
     "text": [
      "dict_keys(['comment_text', 'comment_time', 'title', 'text', 'tex_time'])\n",
      "남자분들 조언좀\n",
      "\n"
     ]
    }
   ],
   "source": [
    "file_list = search('./Result/')\n",
    "data = file_read(file_list)\n",
    "\n",
    "#print(file_list)\n",
    "print(data[0].keys())\n",
    "print(data[4]['title'])\n",
    "print(data[0]['text'])"
   ]
  },
  {
   "cell_type": "code",
   "execution_count": 12,
   "metadata": {
    "scrolled": true
   },
   "outputs": [
    {
     "name": "stderr",
     "output_type": "stream",
     "text": [
      "C:\\ProgramData\\Anaconda3\\lib\\site-packages\\ipykernel_launcher.py:2: UserWarning: Pandas doesn't allow columns to be created via a new attribute name - see https://pandas.pydata.org/pandas-docs/stable/indexing.html#attribute-access\n",
      "  \n"
     ]
    }
   ],
   "source": [
    "results=pd.DataFrame(data)\n",
    "results.comlumns=['title', 'text', 'tex_time', 'now_time']"
   ]
  },
  {
   "cell_type": "code",
   "execution_count": 13,
   "metadata": {
    "scrolled": false
   },
   "outputs": [],
   "source": [
    "results.to_csv('everytime1.csv',encoding='cp949')"
   ]
  },
  {
   "cell_type": "code",
   "execution_count": null,
   "metadata": {},
   "outputs": [],
   "source": [
    "# https://lovit.github.io/nlp/2018/04/17/word_cloud/ 참조\n",
    "\n",
    "wordrank_extractor = KRWordRank(\n",
    "    min_count = 10, # 단어의 최소 출현 빈도수 (그래프 생성 시)\n",
    "    max_length = 15, # 단어의 최대 길이\n",
    "    verbose = True\n",
    "    )\n",
    "\n",
    "beta = 0.85    # PageRank의 decaying factor beta\n",
    "max_iter = 10\n",
    "\n",
    "input_text = str()\n",
    "text = list()\n",
    "for content in data:\n",
    "    text.append(content['text'])\n",
    "    text.append(content['title'])\n",
    "    \n",
    "    for comment in content['comment_text']:\n",
    "        text.append(comment)\n",
    "\n",
    "input_text = ' '.join(text)"
   ]
  },
  {
   "cell_type": "code",
   "execution_count": null,
   "metadata": {},
   "outputs": [],
   "source": [
    "keywords = None\n",
    "rank = ''\n",
    "graph = None\n",
    "keywords, rank, graph = wordrank_extractor.extract(text, beta, max_iter)"
   ]
  },
  {
   "cell_type": "code",
   "execution_count": null,
   "metadata": {},
   "outputs": [],
   "source": [
    "for word, r in sorted(keywords.items(), key=lambda x:x[1], reverse=True)[:60]:\n",
    "    print('%8s:\\t%.4f' % (word, r))"
   ]
  },
  {
   "cell_type": "code",
   "execution_count": null,
   "metadata": {},
   "outputs": [],
   "source": []
  }
 ],
 "metadata": {
  "kernelspec": {
   "display_name": "Python 3",
   "language": "python",
   "name": "python3"
  },
  "language_info": {
   "codemirror_mode": {
    "name": "ipython",
    "version": 3
   },
   "file_extension": ".py",
   "mimetype": "text/x-python",
   "name": "python",
   "nbconvert_exporter": "python",
   "pygments_lexer": "ipython3",
   "version": "3.7.1"
  }
 },
 "nbformat": 4,
 "nbformat_minor": 2
}
